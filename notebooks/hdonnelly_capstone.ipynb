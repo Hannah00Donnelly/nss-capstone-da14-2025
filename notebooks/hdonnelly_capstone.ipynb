{
 "cells": [
  {
   "cell_type": "markdown",
   "id": "dca9379b-f898-490f-8a3a-96b100b86bb4",
   "metadata": {},
   "source": [
    "# <center> Capstone Project <center>"
   ]
  },
  {
   "cell_type": "markdown",
   "id": "f619795d-da9f-4d43-ae97-d21711e0e656",
   "metadata": {},
   "source": [
    "### <center> Data Dwellers: Finding a Home Through Analytics <center>"
   ]
  },
  {
   "cell_type": "markdown",
   "id": "6143edea-9964-4c8f-8e5e-fbef4715ca4c",
   "metadata": {},
   "source": [
    "<div class=\"alert alert-block alert-info\">\n",
    "<b>Where should I live?:</b> \n",
    "\n",
    "Which U.S. city among my selected options - Raleigh, NC; Seattle, WA; Philadelphia, PA; and Austin, TX - offers the best balance of public transportation, diversity, and affordability for a remote worker seeking a vibrant, walkable, and connected lifestyle?"
   ]
  },
  {
   "cell_type": "markdown",
   "id": "0ff56da5-c600-479e-9f31-abed5366e029",
   "metadata": {},
   "source": [
    "Things to consider:\n",
    "- Availability of public transit systems\n",
    "- Average Commute time\n",
    "- Racial diversity per city\n",
    "- Foreign-born population %\n",
    "- Number of languages spoken\n",
    "- Median monthly rent\n",
    "- Median home price\n",
    "- Average monthly utility and internet costs\n",
    "- Grocery and transportation prices"
   ]
  },
  {
   "cell_type": "code",
   "execution_count": 5,
   "id": "b730c1bd-6557-4439-8ffc-d254d755d40e",
   "metadata": {},
   "outputs": [],
   "source": [
    "import pandas as pd\n",
    "import numpy as np\n",
    "import matplotlib.pyplot as plt\n",
    "import seaborn as sns"
   ]
  },
  {
   "cell_type": "markdown",
   "id": "76829fed-0c53-400c-adb4-d992c1980bb3",
   "metadata": {},
   "source": [
    "# Reading in city specific data:"
   ]
  },
  {
   "cell_type": "markdown",
   "id": "fd73df76-c70d-4dcd-83d3-e0f3c53d252b",
   "metadata": {},
   "source": [
    "#### Austin:"
   ]
  },
  {
   "cell_type": "code",
   "execution_count": 8,
   "id": "6e378017-1fdc-4457-b3a4-5d390449059c",
   "metadata": {},
   "outputs": [],
   "source": [
    "austin_city_budget=pd.read_csv('../data/austin/Austin_Program_Budget_Operating_Budget_Vs_Expense_Raw_Data_20250519.csv')"
   ]
  },
  {
   "cell_type": "code",
   "execution_count": 9,
   "id": "86793d61-40ee-4fe4-9648-3b8f7b4253f7",
   "metadata": {},
   "outputs": [],
   "source": [
    "austin_access_public_transport=pd.read_csv('../data/austin/austin_strategic_measures_percentage_of_population_access_to_public_transit_service_or_is_within_one_quarter_mile_of_regular_fixed_route_transit_20250519.csv')"
   ]
  },
  {
   "cell_type": "code",
   "execution_count": 10,
   "id": "994e9938-bdec-422f-a1fc-085faa28caf8",
   "metadata": {},
   "outputs": [],
   "source": [
    "#need to rename headers\n",
    "austin_comute_chars=pd.read_csv('../data/austin/census_austin_commuting_chars.csv')"
   ]
  },
  {
   "cell_type": "code",
   "execution_count": 11,
   "id": "d4cfa83e-9ae8-47e2-93f7-cd7c6dcc2d02",
   "metadata": {},
   "outputs": [
    {
     "data": {
      "text/html": [
       "<div>\n",
       "<style scoped>\n",
       "    .dataframe tbody tr th:only-of-type {\n",
       "        vertical-align: middle;\n",
       "    }\n",
       "\n",
       "    .dataframe tbody tr th {\n",
       "        vertical-align: top;\n",
       "    }\n",
       "\n",
       "    .dataframe thead th {\n",
       "        text-align: right;\n",
       "    }\n",
       "</style>\n",
       "<table border=\"1\" class=\"dataframe\">\n",
       "  <thead>\n",
       "    <tr style=\"text-align: right;\">\n",
       "      <th></th>\n",
       "      <th>Unnamed: 0</th>\n",
       "      <th>Austin County, Texas</th>\n",
       "      <th>Unnamed: 2</th>\n",
       "      <th>Unnamed: 3</th>\n",
       "      <th>Unnamed: 4</th>\n",
       "      <th>Unnamed: 5</th>\n",
       "      <th>Unnamed: 6</th>\n",
       "    </tr>\n",
       "  </thead>\n",
       "  <tbody>\n",
       "    <tr>\n",
       "      <th>0</th>\n",
       "      <td>NaN</td>\n",
       "      <td>Total</td>\n",
       "      <td>NaN</td>\n",
       "      <td>Male</td>\n",
       "      <td>NaN</td>\n",
       "      <td>Female</td>\n",
       "      <td>NaN</td>\n",
       "    </tr>\n",
       "    <tr>\n",
       "      <th>1</th>\n",
       "      <td>Label</td>\n",
       "      <td>Estimate</td>\n",
       "      <td>Margin of Error</td>\n",
       "      <td>Estimate</td>\n",
       "      <td>Margin of Error</td>\n",
       "      <td>Estimate</td>\n",
       "      <td>Margin of Error</td>\n",
       "    </tr>\n",
       "    <tr>\n",
       "      <th>2</th>\n",
       "      <td>Workers 16 years and over</td>\n",
       "      <td>13,951</td>\n",
       "      <td>±620</td>\n",
       "      <td>7,841</td>\n",
       "      <td>±480</td>\n",
       "      <td>6,110</td>\n",
       "      <td>±465</td>\n",
       "    </tr>\n",
       "    <tr>\n",
       "      <th>3</th>\n",
       "      <td>MEANS OF TRANSPORTATION TO WORK</td>\n",
       "      <td>NaN</td>\n",
       "      <td>NaN</td>\n",
       "      <td>NaN</td>\n",
       "      <td>NaN</td>\n",
       "      <td>NaN</td>\n",
       "      <td>NaN</td>\n",
       "    </tr>\n",
       "    <tr>\n",
       "      <th>4</th>\n",
       "      <td>Car, truck, or van</td>\n",
       "      <td>88.40%</td>\n",
       "      <td>±2.4</td>\n",
       "      <td>87.10%</td>\n",
       "      <td>±3.6</td>\n",
       "      <td>90.00%</td>\n",
       "      <td>±3.2</td>\n",
       "    </tr>\n",
       "  </tbody>\n",
       "</table>\n",
       "</div>"
      ],
      "text/plain": [
       "                        Unnamed: 0 Austin County, Texas       Unnamed: 2  \\\n",
       "0                              NaN                Total              NaN   \n",
       "1                            Label             Estimate  Margin of Error   \n",
       "2        Workers 16 years and over               13,951             ±620   \n",
       "3  MEANS OF TRANSPORTATION TO WORK                  NaN              NaN   \n",
       "4               Car, truck, or van               88.40%             ±2.4   \n",
       "\n",
       "  Unnamed: 3       Unnamed: 4 Unnamed: 5       Unnamed: 6  \n",
       "0       Male              NaN     Female              NaN  \n",
       "1   Estimate  Margin of Error   Estimate  Margin of Error  \n",
       "2      7,841             ±480      6,110             ±465  \n",
       "3        NaN              NaN        NaN              NaN  \n",
       "4     87.10%             ±3.6     90.00%             ±3.2  "
      ]
     },
     "execution_count": 11,
     "metadata": {},
     "output_type": "execute_result"
    }
   ],
   "source": [
    "austin_commute_chars.head()"
   ]
  },
  {
   "cell_type": "code",
   "execution_count": 12,
   "id": "d65cb8bf-5518-4062-996d-b9fff6e7cd97",
   "metadata": {},
   "outputs": [],
   "source": [
    "#need to rename headers\n",
    "austin_housing_chars=pd.read_csv('../data/austin/census_selected_housing_char_austin.csv')"
   ]
  },
  {
   "cell_type": "code",
   "execution_count": 13,
   "id": "c4aa706b-5748-49eb-b2d3-487ce8fa02b0",
   "metadata": {},
   "outputs": [
    {
     "data": {
      "text/html": [
       "<div>\n",
       "<style scoped>\n",
       "    .dataframe tbody tr th:only-of-type {\n",
       "        vertical-align: middle;\n",
       "    }\n",
       "\n",
       "    .dataframe tbody tr th {\n",
       "        vertical-align: top;\n",
       "    }\n",
       "\n",
       "    .dataframe thead th {\n",
       "        text-align: right;\n",
       "    }\n",
       "</style>\n",
       "<table border=\"1\" class=\"dataframe\">\n",
       "  <thead>\n",
       "    <tr style=\"text-align: right;\">\n",
       "      <th></th>\n",
       "      <th>Unnamed: 0</th>\n",
       "      <th>United States</th>\n",
       "      <th>Unnamed: 2</th>\n",
       "      <th>Unnamed: 3</th>\n",
       "      <th>Unnamed: 4</th>\n",
       "      <th>Texas</th>\n",
       "      <th>Unnamed: 6</th>\n",
       "      <th>Unnamed: 7</th>\n",
       "      <th>Unnamed: 8</th>\n",
       "    </tr>\n",
       "  </thead>\n",
       "  <tbody>\n",
       "    <tr>\n",
       "      <th>0</th>\n",
       "      <td>Label</td>\n",
       "      <td>Estimate</td>\n",
       "      <td>Margin of Error</td>\n",
       "      <td>Percent</td>\n",
       "      <td>Percent Margin of Error</td>\n",
       "      <td>Estimate</td>\n",
       "      <td>Margin of Error</td>\n",
       "      <td>Percent</td>\n",
       "      <td>Percent Margin of Error</td>\n",
       "    </tr>\n",
       "    <tr>\n",
       "      <th>1</th>\n",
       "      <td>HOUSING OCCUPANCY</td>\n",
       "      <td>NaN</td>\n",
       "      <td>NaN</td>\n",
       "      <td>NaN</td>\n",
       "      <td>NaN</td>\n",
       "      <td>NaN</td>\n",
       "      <td>NaN</td>\n",
       "      <td>NaN</td>\n",
       "      <td>NaN</td>\n",
       "    </tr>\n",
       "    <tr>\n",
       "      <th>2</th>\n",
       "      <td>Total housing units</td>\n",
       "      <td>145,333,462</td>\n",
       "      <td>±10,062</td>\n",
       "      <td>145,333,462</td>\n",
       "      <td>(X)</td>\n",
       "      <td>12,394,809</td>\n",
       "      <td>±3,110</td>\n",
       "      <td>12,394,809</td>\n",
       "      <td>(X)</td>\n",
       "    </tr>\n",
       "    <tr>\n",
       "      <th>3</th>\n",
       "      <td>Occupied housing units</td>\n",
       "      <td>131,332,360</td>\n",
       "      <td>±130,190</td>\n",
       "      <td>90.4%</td>\n",
       "      <td>±0.1</td>\n",
       "      <td>11,260,645</td>\n",
       "      <td>±19,354</td>\n",
       "      <td>90.8%</td>\n",
       "      <td>±0.2</td>\n",
       "    </tr>\n",
       "    <tr>\n",
       "      <th>4</th>\n",
       "      <td>Vacant housing units</td>\n",
       "      <td>14,001,102</td>\n",
       "      <td>±137,938</td>\n",
       "      <td>9.6%</td>\n",
       "      <td>±0.1</td>\n",
       "      <td>1,134,164</td>\n",
       "      <td>±20,157</td>\n",
       "      <td>9.2%</td>\n",
       "      <td>±0.2</td>\n",
       "    </tr>\n",
       "  </tbody>\n",
       "</table>\n",
       "</div>"
      ],
      "text/plain": [
       "               Unnamed: 0 United States       Unnamed: 2   Unnamed: 3  \\\n",
       "0                   Label      Estimate  Margin of Error      Percent   \n",
       "1       HOUSING OCCUPANCY           NaN              NaN          NaN   \n",
       "2     Total housing units   145,333,462          ±10,062  145,333,462   \n",
       "3  Occupied housing units   131,332,360         ±130,190        90.4%   \n",
       "4    Vacant housing units    14,001,102         ±137,938         9.6%   \n",
       "\n",
       "                Unnamed: 4       Texas       Unnamed: 6  Unnamed: 7  \\\n",
       "0  Percent Margin of Error    Estimate  Margin of Error     Percent   \n",
       "1                      NaN         NaN              NaN         NaN   \n",
       "2                      (X)  12,394,809           ±3,110  12,394,809   \n",
       "3                     ±0.1  11,260,645          ±19,354       90.8%   \n",
       "4                     ±0.1   1,134,164          ±20,157        9.2%   \n",
       "\n",
       "                Unnamed: 8  \n",
       "0  Percent Margin of Error  \n",
       "1                      NaN  \n",
       "2                      (X)  \n",
       "3                     ±0.2  \n",
       "4                     ±0.2  "
      ]
     },
     "execution_count": 13,
     "metadata": {},
     "output_type": "execute_result"
    }
   ],
   "source": [
    "austin_housing_chars.head()"
   ]
  },
  {
   "cell_type": "code",
   "execution_count": 69,
   "id": "af7d0e34-b87a-4432-9b5c-5d7c909200dd",
   "metadata": {},
   "outputs": [],
   "source": [
    "austin_social_chars=pd.read_csv('../data/austin/census_austin_social_chars.csv')"
   ]
  },
  {
   "cell_type": "markdown",
   "id": "41fa7022-392a-4814-8827-edb7bd11a758",
   "metadata": {},
   "source": [
    "#### Philadelphia"
   ]
  },
  {
   "cell_type": "code",
   "execution_count": 57,
   "id": "b3fea2ed-78c2-4397-b7d0-e17dd3b123fa",
   "metadata": {},
   "outputs": [],
   "source": [
    "philly_pt_budget=pd.read_csv('../data/philadelphia/Philadelphia_FY_24_to_FY_29_Financial_Projections_SEPTA_Finances.csv')"
   ]
  },
  {
   "cell_type": "code",
   "execution_count": 59,
   "id": "d645db1c-df77-4bd6-a956-5ed934f2b57b",
   "metadata": {},
   "outputs": [],
   "source": [
    "philly_pt_expenses=pd.read_csv('../data/philadelphia/SEPTA_Finances_Detail_of_Expenses_by_Company_Philadelphia.csv')"
   ]
  },
  {
   "cell_type": "code",
   "execution_count": 61,
   "id": "7ae9b9bf-f095-485e-aa86-adb164271cf5",
   "metadata": {},
   "outputs": [],
   "source": [
    "philly_commute_chars=pd.read_csv('../data/philadelphia/philidephia_commuting_chars.csv')"
   ]
  },
  {
   "cell_type": "code",
   "execution_count": 65,
   "id": "dfc6f9a4-f3bb-4c48-b124-e9940409580c",
   "metadata": {},
   "outputs": [],
   "source": [
    "philly_social_chars=pd.read_csv('../data/philadelphia/philadelphia_social_chars.csv')"
   ]
  },
  {
   "cell_type": "code",
   "execution_count": 67,
   "id": "8d9a7588-039e-4e72-ae0b-b8754ab33223",
   "metadata": {},
   "outputs": [],
   "source": [
    "philly_housing_chars=pd.read_csv('../data/philadelphia/census_selected_housing_char_philly.csv')"
   ]
  },
  {
   "cell_type": "markdown",
   "id": "1386026f-e0f8-4080-80c9-1143d1839900",
   "metadata": {},
   "source": [
    "#### Raleigh"
   ]
  },
  {
   "cell_type": "code",
   "execution_count": 87,
   "id": "e4ff0f54-0e1b-4700-81f7-a289f502fb09",
   "metadata": {},
   "outputs": [],
   "source": [
    "raleigh_commute_chars=pd.read_csv('../data/raleigh/census_raleigh_commuting_chars.csv')"
   ]
  },
  {
   "cell_type": "code",
   "execution_count": 89,
   "id": "2d6bcc9a-c126-403f-9e01-723da76f5309",
   "metadata": {},
   "outputs": [],
   "source": [
    "raleigh_social_chars=pd.read_csv('../data/raleigh/census_raleigh_social_chars.csv')"
   ]
  },
  {
   "cell_type": "code",
   "execution_count": 91,
   "id": "9db00fd0-ade5-4ff2-8cfd-4cab6406bb78",
   "metadata": {},
   "outputs": [],
   "source": [
    "raleigh_housing_chars=pd.read_csv('../data/raleigh/census_selected_housing_char_raliegh.csv')"
   ]
  },
  {
   "cell_type": "code",
   "execution_count": 93,
   "id": "0e09e5f2-a0ee-425c-aae7-c074a17ebd8b",
   "metadata": {},
   "outputs": [],
   "source": [
    "raleigh_budget=pd.read_csv('../data/raleigh/raleigh_adopted_expense_budget.csv')"
   ]
  },
  {
   "cell_type": "code",
   "execution_count": 95,
   "id": "ab983e47-c483-43e6-b0ce-35f5dde02b75",
   "metadata": {},
   "outputs": [],
   "source": [
    "raleigh_cap_projects=pd.read_csv('../data/raleigh/raliegh_adopted_capital_projects.csv')"
   ]
  },
  {
   "cell_type": "markdown",
   "id": "f125591a-aff0-485e-a470-d2b77974e556",
   "metadata": {},
   "source": [
    "#### Seattle"
   ]
  },
  {
   "cell_type": "code",
   "execution_count": 100,
   "id": "0a425b1d-2584-4cc1-9697-c90a58cbf921",
   "metadata": {},
   "outputs": [],
   "source": [
    "seattle_cap_projects=pd.read_csv('../data/seattle/seatle_open_budget_capital_projects_details_20250518.csv')"
   ]
  },
  {
   "cell_type": "code",
   "execution_count": 99,
   "id": "8dafeaa8-0764-437f-b40e-478e41ffb790",
   "metadata": {},
   "outputs": [],
   "source": [
    "seattle_budget=pd.read_csv('../data/seattle/City_of_Seattle_Operating_Budget_20250518.csv')"
   ]
  },
  {
   "cell_type": "code",
   "execution_count": 105,
   "id": "271704d1-88d0-422b-b917-a7c0914279ae",
   "metadata": {},
   "outputs": [],
   "source": [
    "seattle_housing_char=pd.read_csv('../data/seattle/census_selected_housing_char_seattle.csv')"
   ]
  },
  {
   "cell_type": "code",
   "execution_count": 107,
   "id": "b7b56cd6-c705-44f7-a446-6abf5c0a0f58",
   "metadata": {},
   "outputs": [],
   "source": [
    "seattle_social_char=pd.read_csv('../data/seattle/sensus_seattle_social_chars.csv')"
   ]
  },
  {
   "cell_type": "code",
   "execution_count": 103,
   "id": "dc9614ae-0e5b-496c-ae42-746a6705fc0b",
   "metadata": {},
   "outputs": [],
   "source": [
    "seattle_commute_char=pd.read_csv('../data/seattle/census_seattle_commuting_chars.csv')"
   ]
  },
  {
   "cell_type": "markdown",
   "id": "3880ac1a-09f5-43a6-8049-be40010b3bde",
   "metadata": {},
   "source": [
    "# U.S. Data: "
   ]
  },
  {
   "cell_type": "markdown",
   "id": "12da744e-4545-4749-ad40-da56711b6f52",
   "metadata": {},
   "source": [
    "#### Will extract the city specific data from these datasets"
   ]
  },
  {
   "cell_type": "code",
   "execution_count": 37,
   "id": "cff628f2-405e-4663-bbdb-cb248d51d3ab",
   "metadata": {},
   "outputs": [],
   "source": [
    "single_fam_home_rent = pd.read_csv('../data/single_family_homes_rent_cost_all_counties.csv')"
   ]
  },
  {
   "cell_type": "code",
   "execution_count": 39,
   "id": "be494790-0c6d-40da-af58-014924b6d0fd",
   "metadata": {},
   "outputs": [],
   "source": [
    "single_fam_home_cost = pd.read_csv('../data/single_family_home_cost_all_counties.csv')"
   ]
  },
  {
   "cell_type": "code",
   "execution_count": 19,
   "id": "27122970-eaf9-4f10-a273-65cdfd3e4552",
   "metadata": {},
   "outputs": [],
   "source": [
    "metro_rent=pd.read_csv('../data/metro_mean_rent_all.csv')"
   ]
  },
  {
   "cell_type": "code",
   "execution_count": 20,
   "id": "9025c15e-eabf-409a-8008-cace8fde1be2",
   "metadata": {},
   "outputs": [],
   "source": [
    "metro_house_price=pd.read_csv('../data/metro_mean_sale_price_all.csv')"
   ]
  },
  {
   "cell_type": "code",
   "execution_count": 49,
   "id": "54123510-8446-4ab0-a649-e3ecc233a64f",
   "metadata": {},
   "outputs": [],
   "source": [
    "public_transportation=pd.read_csv('../data/Monthly_Modal_Time_Series_Transportation_All.csv', low_memory=False)"
   ]
  },
  {
   "cell_type": "code",
   "execution_count": 41,
   "id": "b37ab497-86ea-45cc-bb09-30e5ce418e33",
   "metadata": {},
   "outputs": [],
   "source": [
    "#Non-IOU = Non-Investor-Owned Utility\n",
    "noniou_utility_rates = pd.read_csv('../data/non_iou_utlity_rates_zip_openei_all.csv')"
   ]
  },
  {
   "cell_type": "code",
   "execution_count": 43,
   "id": "2b9703c2-f6fc-47df-9e32-d132b1905444",
   "metadata": {},
   "outputs": [],
   "source": [
    "iou_utility_rates = pd.read_csv('../data/utility_rates_zip_openei_all.csv')"
   ]
  },
  {
   "cell_type": "code",
   "execution_count": 51,
   "id": "e043e999-0e23-446b-aa5a-ad879ce06f62",
   "metadata": {},
   "outputs": [],
   "source": [
    "#Regional price parities\n",
    "#Regional price parities measure the differences in price levels across states for a given year \n",
    "#and are expressed as a percentage of the overall national price level.\n",
    "rpp_us = pd.read_csv('../data/regional_price_parities_bea_gov_all_100.csv')"
   ]
  },
  {
   "cell_type": "code",
   "execution_count": 53,
   "id": "27b85e4e-3c68-4744-8293-6e92c5a42e05",
   "metadata": {},
   "outputs": [],
   "source": [
    "pc_personal_consumption_us = pd.read_csv('../data/personal_consumption_expenditures_all_bea_2023_pc.csv')"
   ]
  }
 ],
 "metadata": {
  "kernelspec": {
   "display_name": "Python [conda env:base] *",
   "language": "python",
   "name": "conda-base-py"
  },
  "language_info": {
   "codemirror_mode": {
    "name": "ipython",
    "version": 3
   },
   "file_extension": ".py",
   "mimetype": "text/x-python",
   "name": "python",
   "nbconvert_exporter": "python",
   "pygments_lexer": "ipython3",
   "version": "3.12.7"
  }
 },
 "nbformat": 4,
 "nbformat_minor": 5
}
